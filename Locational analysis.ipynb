{
 "cells": [
  {
   "cell_type": "markdown",
   "id": "208a4422-d866-42be-b031-d9fea4f7cac9",
   "metadata": {},
   "source": [
    "### Data Source and Attribution\n",
    "\n",
    "The wealth of different areas data is licensed under the Creative Commons Attribution 4.0 International (CC BY 4.0) licence by the University of Otago.  \n",
    "It is derived from the NZDep2023 Index of Socioeconomic Deprivation.\n",
    "\n",
    "The crash data is provided by Waka Kotahi NZ Transport Agency – Crash Analysis System (CAS) under the same CC BY 4.0 International license.\n",
    "\n",
    "For full license details, see: https://creativecommons.org/licenses/by/4.0/"
   ]
  },
  {
   "cell_type": "code",
   "execution_count": 83,
   "id": "5a879405-63b9-40cb-ac1c-9106e44387c3",
   "metadata": {},
   "outputs": [],
   "source": [
    "import pandas as pd\n",
    "import seaborn as sns\n",
    "import matplotlib.pyplot as plt\n",
    "from scipy.stats import chi2_contingency\n",
    "from sklearn.linear_model import LogisticRegression\n",
    "from sklearn.preprocessing import OneHotEncoder\n",
    "from sklearn.compose import ColumnTransformer\n",
    "from sklearn.pipeline import Pipeline\n",
    "\n"
   ]
  },
  {
   "cell_type": "code",
   "execution_count": 84,
   "id": "a0bb6e02-b4d5-4c77-913f-b15d5ddccc93",
   "metadata": {},
   "outputs": [
    {
     "data": {
      "text/plain": [
       "crashSeverity\n",
       "Non-Injury Crash    607114\n",
       "Minor Crash         204552\n",
       "Serious Crash        50189\n",
       "Fatal Crash           8031\n",
       "Name: count, dtype: int64"
      ]
     },
     "execution_count": 84,
     "metadata": {},
     "output_type": "execute_result"
    }
   ],
   "source": [
    "#Dataset of crashes in New Zealand\n",
    "file_path = \"Datasets/Crash_Analysis_System_(CAS)_data.csv\"\n",
    "\n",
    "# Dataset used to determine wealth of area\n",
    "area_wealth = pd.read_csv(\"Datasets/NZDep2023_WgtAvDom-text.txt\", sep='\\t')\n",
    "\n",
    "crash_data = pd.read_csv(file_path)\n",
    "crash_data['crashSeverity'].value_counts()\n",
    "\n"
   ]
  },
  {
   "cell_type": "code",
   "execution_count": 85,
   "id": "497485f4-9c7d-4c72-9dd3-5299e4618a8b",
   "metadata": {},
   "outputs": [
    {
     "data": {
      "text/html": [
       "<div>\n",
       "<style scoped>\n",
       "    .dataframe tbody tr th:only-of-type {\n",
       "        vertical-align: middle;\n",
       "    }\n",
       "\n",
       "    .dataframe tbody tr th {\n",
       "        vertical-align: top;\n",
       "    }\n",
       "\n",
       "    .dataframe thead th {\n",
       "        text-align: right;\n",
       "    }\n",
       "</style>\n",
       "<table border=\"1\" class=\"dataframe\">\n",
       "  <thead>\n",
       "    <tr style=\"text-align: right;\">\n",
       "      <th></th>\n",
       "      <th>Domicile_code</th>\n",
       "      <th>AU2017_code</th>\n",
       "      <th>AU2017_name</th>\n",
       "      <th>Dom_average_NZDep2023</th>\n",
       "      <th>Dom_average_NZDep2023_score</th>\n",
       "    </tr>\n",
       "  </thead>\n",
       "  <tbody>\n",
       "    <tr>\n",
       "      <th>0</th>\n",
       "      <td>1</td>\n",
       "      <td>500100</td>\n",
       "      <td>Awanui</td>\n",
       "      <td>10</td>\n",
       "      <td>1153</td>\n",
       "    </tr>\n",
       "    <tr>\n",
       "      <th>1</th>\n",
       "      <td>2</td>\n",
       "      <td>500202</td>\n",
       "      <td>Karikari Peninsula-Maungataniwha</td>\n",
       "      <td>9</td>\n",
       "      <td>1106</td>\n",
       "    </tr>\n",
       "    <tr>\n",
       "      <th>2</th>\n",
       "      <td>3</td>\n",
       "      <td>500203</td>\n",
       "      <td>Taipa Bay-Mangonui</td>\n",
       "      <td>8</td>\n",
       "      <td>1050</td>\n",
       "    </tr>\n",
       "    <tr>\n",
       "      <th>3</th>\n",
       "      <td>4</td>\n",
       "      <td>500204</td>\n",
       "      <td>Herekino</td>\n",
       "      <td>9</td>\n",
       "      <td>1109</td>\n",
       "    </tr>\n",
       "    <tr>\n",
       "      <th>4</th>\n",
       "      <td>5</td>\n",
       "      <td>500205</td>\n",
       "      <td>Ahipara</td>\n",
       "      <td>9</td>\n",
       "      <td>1096</td>\n",
       "    </tr>\n",
       "  </tbody>\n",
       "</table>\n",
       "</div>"
      ],
      "text/plain": [
       "   Domicile_code  AU2017_code                       AU2017_name  \\\n",
       "0              1       500100                            Awanui   \n",
       "1              2       500202  Karikari Peninsula-Maungataniwha   \n",
       "2              3       500203                Taipa Bay-Mangonui   \n",
       "3              4       500204                          Herekino   \n",
       "4              5       500205                           Ahipara   \n",
       "\n",
       "   Dom_average_NZDep2023  Dom_average_NZDep2023_score  \n",
       "0                     10                         1153  \n",
       "1                      9                         1106  \n",
       "2                      8                         1050  \n",
       "3                      9                         1109  \n",
       "4                      9                         1096  "
      ]
     },
     "execution_count": 85,
     "metadata": {},
     "output_type": "execute_result"
    }
   ],
   "source": [
    "area_wealth.head()"
   ]
  },
  {
   "cell_type": "code",
   "execution_count": 86,
   "id": "a3146ce5-0c9e-4bf0-8faf-41a546fc9f71",
   "metadata": {},
   "outputs": [],
   "source": [
    "area_wealth.rename(columns={'AU2017_code': 'areaUnitID'}, inplace=True)\n",
    "df = crash_data.merge(\n",
    "    area_wealth[['areaUnitID', 'Dom_average_NZDep2023_score','Dom_average_NZDep2023']],\n",
    "    on='areaUnitID',\n",
    "    how='inner'\n",
    ")\n",
    "df['decile'] = df['Dom_average_NZDep2023']\n",
    "\n"
   ]
  },
  {
   "cell_type": "code",
   "execution_count": 87,
   "id": "1aea2931-5ae3-4005-a68b-4822becb4259",
   "metadata": {},
   "outputs": [
    {
     "name": "stdout",
     "output_type": "stream",
     "text": [
      "decile\n",
      "9     116315\n",
      "5     104902\n",
      "8     103209\n",
      "7      92889\n",
      "4      87963\n",
      "6      85614\n",
      "10     85243\n",
      "3      76632\n",
      "2      64674\n",
      "1      52232\n",
      "Name: count, dtype: int64\n"
     ]
    }
   ],
   "source": [
    "print(df['decile'].value_counts())"
   ]
  },
  {
   "cell_type": "markdown",
   "id": "6652815f-8161-4308-8b3e-13ece3ee9aa2",
   "metadata": {},
   "source": [
    "## Question 1: is there a correlation between the wealth of an area and the severity of crashes there"
   ]
  },
  {
   "cell_type": "code",
   "execution_count": 88,
   "id": "871f139a-ffe8-43dd-a07b-9b31753e724d",
   "metadata": {},
   "outputs": [],
   "source": [
    "severity_counts = (\n",
    "    df.groupby(['decile', 'crashSeverity'])\n",
    "      .size()\n",
    "      .unstack(fill_value=0)\n",
    ")\n",
    "\n",
    "severity_props = severity_counts.div(severity_counts.sum(axis=1), axis=0)\n",
    "ordered = ['Fatal Crash', 'Serious Crash', 'Minor Crash', 'Non-Injury Crash']\n",
    "\n",
    "# Reindex columns in that order\n",
    "severity_props = severity_props.reindex(columns=ordered)\n",
    "\n"
   ]
  },
  {
   "cell_type": "code",
   "execution_count": 105,
   "id": "62591bff-e577-4f7b-b66b-075a1b24ecc6",
   "metadata": {
    "scrolled": true
   },
   "outputs": [
    {
     "data": {
      "image/png": "[encoded data removed]",
      "text/plain": [
       "<Figure size 800x600 with 1 Axes>"
      ]
     },
     "metadata": {},
     "output_type": "display_data"
    }
   ],
   "source": [
    "ax = severity_props.plot(\n",
    "    kind='bar',\n",
    "    stacked=True,\n",
    "    figsize=(8,6),\n",
    "    colormap='tab20'\n",
    ")\n",
    "ax.set_xlabel('Socioeconomic Decile(1 = least deprived)')\n",
    "ax.set_ylabel('Proportion of crashes')\n",
    "ax.set_title('Crash Severity Proportions by Decile for New Zealand areas')\n",
    "plt.legend(title='Severity', bbox_to_anchor=(1.02, 1))\n",
    "plt.tight_layout()\n",
    "plt.show()"
   ]
  },
  {
   "cell_type": "code",
   "execution_count": 90,
   "id": "40ad67ad-8822-4217-8bd3-50ef004238a3",
   "metadata": {},
   "outputs": [
    {
     "name": "stderr",
     "output_type": "stream",
     "text": [
      "C:\\Users\\lucas\\AppData\\Local\\Temp\\ipykernel_78972\\1104347138.py:19: FutureWarning: \n",
      "\n",
      "Passing `palette` without assigning `hue` is deprecated and will be removed in v0.14.0. Assign the `x` variable to `hue` and set `legend=False` for the same effect.\n",
      "\n",
      "  barplot = sns.barplot(\n"
     ]
    },
    {
     "data": {
      "image/png": "[encoded data removed]",
      "text/plain": [
       "<Figure size 1200x700 with 1 Axes>"
      ]
     },
     "metadata": {},
     "output_type": "display_data"
    }
   ],
   "source": [
    "# Calculate total crashes and serious crashes per decile\n",
    "total_crashes = df_model.groupby('decile').size()\n",
    "serious_crashes = df_model.groupby('decile')['serious_or_fatal'].sum()\n",
    "\n",
    "# Calculate proportion (serious crashes / total crashes)\n",
    "proportion_serious = (serious_crashes / total_crashes).reset_index(name='Proportion Serious or Fatal')\n",
    "\n",
    "# Reverse decile order for x-axis (10 to 1)\n",
    "proportion_serious = proportion_serious.sort_values('decile', ascending=False)\n",
    "\n",
    "# Set figure size and style\n",
    "plt.figure(figsize=(12, 7))\n",
    "sns.set_style(\"whitegrid\")\n",
    "\n",
    "# Define bold color palette with reds and contrasting colors\n",
    "palette = ['#d73027', '#fc8d59', '#fee08b', '#d9ef8b', '#91cf60', '#1a9850', '#66c2a5', '#3288bd', '#5e4fa2', '#9e0142']\n",
    "\n",
    "# Create bar plot\n",
    "barplot = sns.barplot(\n",
    "    data=proportion_serious,\n",
    "    x='decile',\n",
    "    y='Proportion Serious or Fatal',\n",
    "    palette=palette,\n",
    "    edgecolor='black'\n",
    ")\n",
    "\n",
    "# Titles and labels\n",
    "plt.title('Proportion of Serious or Fatal Crashes by Socioeconomic Decile', fontsize=16, weight='bold')\n",
    "plt.xlabel('Decile (10 = Least Deprived, 1 = Most Deprived)', fontsize=12)\n",
    "plt.ylabel('Proportion of Serious or Fatal Crashes', fontsize=12)\n",
    "plt.ylim(0, proportion_serious['Proportion Serious or Fatal'].max() * 1.1)\n",
    "\n",
    "plt.tight_layout()\n",
    "plt.savefig(\"test.png\")\n",
    "plt.show()\n",
    "\n"
   ]
  },
  {
   "cell_type": "markdown",
   "id": "27ba94d7-d9a1-4d3c-a157-2f5bced20371",
   "metadata": {},
   "source": [
    "The anwser is that crashes are on average more serious when they happen in less economically privileged regions as evidenced visually"
   ]
  },
  {
   "cell_type": "markdown",
   "id": "1e863e86-3152-4189-a6d0-1ee0d0a25e61",
   "metadata": {},
   "source": [
    "## Question 2: Is this statistically significant\n"
   ]
  },
  {
   "cell_type": "code",
   "execution_count": 117,
   "id": "c14097b8-cde9-4d4f-9c60-13852b820940",
   "metadata": {},
   "outputs": [
    {
     "name": "stdout",
     "output_type": "stream",
     "text": [
      "χ²(27) = 3420.5\n",
      "p-value < 0.00001\n",
      "\n",
      "[EFFECT SIZE]\n",
      "Cramer's V: 0.036\n"
     ]
    }
   ],
   "source": [
    "cont_table = pd.crosstab(\n",
    "    index=df['Dom_average_NZDep2023'],  # Neighborhood deprivation decile (1-10)\n",
    "    columns=df['crashSeverity']         # Crash severity categories\n",
    ")\n",
    "\n",
    "#Perform chi-square test of independence\n",
    "chi2_stat, p, dof, expected = chi2_contingency(cont_table)\n",
    "\n",
    "# Handle extreme p-values (prevent underflow)\n",
    "try:\n",
    "    p_accurate = chi2.sf(chi2_stat, dof)  # Survival function for small p-values\n",
    "except FloatingPointError:\n",
    "    p_accurate = np.nextafter(0, 1)  # Smallest representable positive float\n",
    "\n",
    "# Report test statistics\n",
    "print(f\"χ²({dof}) = {chi2_stat:.1f}\")\n",
    "if p_accurate < 0.00001:\n",
    "    print(\"p-value < 0.00001\")  # Cap at 5 decimals\n",
    "else:\n",
    "    print(f\"p-value = {p_accurate:.5f}\")\n",
    "\n",
    "\n",
    "# 4. Calculate effect size (Cramer's V)\n",
    "n = cont_table.sum().sum()  # Total cases\n",
    "cramers_v = np.sqrt(chi2_stat / (n * (min(cont_table.shape) - 1)))\n",
    "print(f\"\\n[EFFECT SIZE]\\nCramer's V: {cramers_v:.3f}\")\n"
   ]
  },
  {
   "cell_type": "markdown",
   "id": "db7c74df-3b2c-4ce1-b1f3-eeb34bbbe27e",
   "metadata": {},
   "source": [
    "**Key Finding:**  \n",
    "The chi-square test reveals an **overwhelming association** between neighborhood deprivation and crash severity:  \n",
    "- χ²(27) = 3420.5  \n",
    "- *p* < 0.00001 \n",
    "\n",
    "### Interpreting the Results  \n",
    "\n",
    "1. **Certainty of Association**  \n",
    "   - The near-zero p value suggests this pattern is incredibly unlikely to be random.  \n",
    "\n",
    "2. **Effect Size Nuance** (Cramer’s V = 0.036)  \n",
    "   - While statistically significant, the practical impact is modest:  \n",
    "     - Deprivation explains ~0.1% of severity variance (V² = 0.0013)  \n",
    "     - Likely reflects **systemic but small-magnitude** disparities    \n",
    "\n",
    "> **Policy Insight**: While the effect size is small, the statistical certainty suggests deprivation should be considered in safety interventions—especially given the human cost of severe crashes.\n"
   ]
  },
  {
   "cell_type": "code",
   "execution_count": null,
   "id": "0ed06669-bea9-4a02-8cc9-6f78aace1291",
   "metadata": {},
   "outputs": [],
   "source": [
    "# Collapse crash severities\n",
    "df['serious_or_fatal'] = df['crashSeverity'].isin(['Fatal Crash', 'Serious Crash'])\n",
    "\n",
    "# Proportion of serious/fatal per decile\n",
    "serious_rate_by_decile = (\n",
    "    df.groupby('Dom_average_NZDep2023')['serious_or_fatal']\n",
    "      .mean()\n",
    "      .sort_index()\n",
    ")\n",
    "\n",
    "\n",
    "serious_rate_by_decile.plot(kind='bar', figsize=(8,5), color='crimson')\n",
    "plt.ylabel('Proportion of Serious or Fatal Crashes')\n",
    "plt.xlabel('NZDep Decile (1 = Least Deprived)')\n",
    "plt.title('Proportion of Serious/Fatal Crashes by Area Deprivation')\n",
    "plt.tight_layout()\n",
    "plt.show()"
   ]
  },
  {
   "cell_type": "markdown",
   "id": "262fdb55-6918-412a-a771-1333e52e1d67",
   "metadata": {},
   "source": [
    "Severe accidents are generally less likely to result in death in more affluent regions"
   ]
  },
  {
   "cell_type": "markdown",
   "id": "d53cb6de-c2ee-45a6-bc4c-9c2ad8f4016c",
   "metadata": {},
   "source": [
    "## Question 3: To what degree could factors such as speed limit, number of cyclists and number of pedestrians be affecting whether a crash is serious or not"
   ]
  },
  {
   "cell_type": "code",
   "execution_count": null,
   "id": "ddb3c754-709d-4064-8945-2edf82119f13",
   "metadata": {},
   "outputs": [],
   "source": [
    "df['speedLimit'].dropna()\n",
    "df['pedestrian'].fillna(0)\n",
    "df['bicycle'].fillna(0)\n"
   ]
  },
  {
   "cell_type": "code",
   "execution_count": null,
   "id": "e5f02861-e568-4666-8535-2d5dded0b9bb",
   "metadata": {
    "scrolled": true
   },
   "outputs": [],
   "source": [
    "# Define columns needed for modeling\n",
    "columns_needed = [\n",
    "    'crashSeverity',\n",
    "    'speedLimit',\n",
    "    'urban',\n",
    "    'pedestrian',\n",
    "    'bicycle',\n",
    "    'decile'\n",
    "]\n",
    "\n",
    "# Filter rows and select relevant columns\n",
    "df_model = df.loc[df['speedLimit'] <= 100, columns_needed].copy()\n",
    "\n",
    "# Create binary target: 1 if crash is serious or fatal, else 0\n",
    "df_model['serious_or_fatal'] = df_model['crashSeverity'].isin(['Fatal Crash', 'Serious Crash']).astype(int)\n",
    "\n",
    "# Bin speedLimit into categorical bins\n",
    "df_model['speed_bin'] = pd.cut(\n",
    "    df_model['speedLimit'],\n",
    "    bins=[0, 50, 80, 100],\n",
    "    labels=['≤50', '51–80', '81–100'],\n",
    "    right=True\n",
    ")\n",
    "\n",
    "# Normalize urban/rural labels to consistent strings\n",
    "df_model['urban'] = df_model['urban'].replace({'Rural': 'Rural', 'Open': 'Urban'})\n",
    "\n",
    "# Fill missing vulnerable user counts with zero, then sum pedestrians and bicycles\n",
    "df_model['pedestrian'] = df_model['pedestrian'].fillna(0)\n",
    "df_model['bicycle'] = df_model['bicycle'].fillna(0)\n",
    "df_model['vulnerable_count'] = df_model['pedestrian'] + df_model['bicycle']\n",
    "\n",
    "# Specify categorical and numeric feature columns\n",
    "categorical_cols = ['speed_bin', 'urban']\n",
    "numeric_cols = ['decile', 'vulnerable_count']\n",
    "\n",
    "# Prepare feature matrix and target vector\n",
    "X = df_model[categorical_cols + numeric_cols]\n",
    "y = df_model['serious_or_fatal']\n",
    "\n",
    "# Setup preprocessing: One-hot encode categoricals, passthrough numeric features\n",
    "preprocessor = ColumnTransformer(\n",
    "    transformers=[\n",
    "        ('cat', OneHotEncoder(drop='first'), categorical_cols),\n",
    "        ('num', 'passthrough', numeric_cols)\n",
    "    ]\n",
    ")\n",
    "\n",
    "# Build pipeline: preprocessing + logistic regression model\n",
    "pipeline = Pipeline([\n",
    "    ('preprocessor', preprocessor),\n",
    "    ('classifier', LogisticRegression(max_iter=1000))\n",
    "])\n",
    "\n",
    "# Fit logistic regression model\n",
    "pipeline.fit(X, y)\n",
    "\n",
    "# Map model coefficients back to feature names for interpretation\n",
    "feature_names = (\n",
    "    pipeline.named_steps['preprocessor']\n",
    "    .named_transformers_['cat']\n",
    "    .get_feature_names_out(categorical_cols)\n",
    ").tolist() + numeric_cols\n",
    "\n",
    "coefs = pipeline.named_steps['classifier'].coef_[0]\n",
    "\n",
    "for feature, coef in zip(feature_names, coefs):\n",
    "    print(f\"{feature}: {coef:.4f}\")"
   ]
  },
  {
   "cell_type": "markdown",
   "id": "1359e04f-87d0-4dea-83e8-11cc89d75e9d",
   "metadata": {},
   "source": [
    "### Interpretation of Logistic Regression Results\n",
    "\n",
    "- **speed_bin_81–100 (Coefficient: 0.5899)**  \n",
    "  Crashes occurring in the speed limit range 81–100 km/h are associated with higher odds of being serious or fatal compared to the baseline category (speed bin 51–80). The positive coefficient suggests that higher speed limits increase crash severity risk.\n",
    "\n",
    "- **speed_bin_≤50 (Coefficient: -0.6664)**  \n",
    "  Crashes in the lowest speed bin (≤50 km/h) have lower odds of being serious or fatal relative to the baseline. This negative coefficient aligns with expectations that lower speeds tend to reduce crash severity.\n",
    "\n",
    "- **decile (Coefficient: -0.0177)**  \n",
    "  The decile variable, representing socio-economic deprivation (where higher decile indicates less deprivation), shows a slight negative association with crash severity. This implies crashes in less deprived areas tend to be slightly less severe, though the effect size is small.\n",
    "\n",
    "- **vulnerable_count (Coefficient: 1.8281)**  \n",
    "  The count of vulnerable road users (pedestrians and bicyclists) involved in crashes has a strong positive association with severity, indicating that their involvement greatly increases the likelihood of serious or fatal outcomes."
   ]
  },
  {
   "cell_type": "markdown",
   "id": "154643e8-6274-4224-a0af-096020584029",
   "metadata": {},
   "source": [
    "## Question 4: Are the other factors also affected by the wealth of the area"
   ]
  },
  {
   "cell_type": "code",
   "execution_count": null,
   "id": "5691b06e-5109-42b0-9e14-f319c45d2f45",
   "metadata": {},
   "outputs": [],
   "source": [
    "#Using vulnerables as a test/example\n",
    "df['vulnerable_count'] = df['pedestrian'].fillna(0) + df['bicycle'].fillna(0)\n",
    "\n",
    "subset = df[['Dom_average_NZDep2023', 'vulnerable_count']].dropna()\n",
    "\n",
    "count_table = pd.crosstab(subset['Dom_average_NZDep2023'], subset['vulnerable_count'])\n",
    "\n",
    "chi2, p, dof, expected = chi2_contingency(count_table)\n",
    "\n",
    "print(f\"\\nChi² = {chi2:.2f}, p = {p:.5f}, dof = {dof}\")\n"
   ]
  },
  {
   "cell_type": "markdown",
   "id": "2d76848f-97c1-4d99-9613-5e1632ebdecc",
   "metadata": {},
   "source": [
    "As evidence by the incredibly low p-value, there is also a strong connection between the other factors and the wealth of the area. \n",
    "To completely understand how the different variables interact with each other significant further modelling would be done"
   ]
  },
  {
   "cell_type": "markdown",
   "id": "38ce71bb-be2a-471f-a963-0b6dea03f0a5",
   "metadata": {},
   "source": [
    "## Conclusion\n",
    "\n",
    "This analysis demonstrates a clear correlation between socioeconomic deprivation and crash severity in New Zealand. Crashes occurring in less economically privileged areas tend to be more serious, a relationship that is statistically significant given the very low p-values observed.\n",
    "\n",
    "Additionally, factors such as speed limit categories and vulnerable user involvement (pedestrians and cyclists) play a meaningful role in determining the likelihood of a crash being serious or fatal which could also be . For example, higher speed limits and greater vulnerable user presence increase the odds of severe crashes.\n",
    "\n",
    "Overall, these findings highlight the importance of considering socioeconomic context alongside traffic and environmental factors when developing road safety interventions. They also show that many factors interact with each other complicating the data significantly. Another way for possible improvement could be in the data collection. If data collection showed when crashes happened with poor lighting(focusing on manmade) or ambulance response times it could show specific areas for change.\n"
   ]
  }
 ],
 "metadata": {
  "kernelspec": {
   "display_name": "Python (crash_env)",
   "language": "python",
   "name": "crash_env"
  },
  "language_info": {
   "codemirror_mode": {
    "name": "ipython",
    "version": 3
   },
   "file_extension": ".py",
   "mimetype": "text/x-python",
   "name": "python",
   "nbconvert_exporter": "python",
   "pygments_lexer": "ipython3",
   "version": "3.11.11"
  }
 },
 "nbformat": 4,
 "nbformat_minor": 5
}
